{
 "cells": [
  {
   "cell_type": "markdown",
   "metadata": {},
   "source": [
    "# Pandas Tutorial\n",
    "\n",
    "By Nathan Booth\n",
    "\n",
    "## Objectives\n",
    "* Recall pandas use cases\n",
    "* Understand the basic pandas data types\n",
    "* Import and export data\n",
    "* Access data by label or position\n",
    "* Compute summary statistics\n",
    "* Remove or fill missing data\n",
    "* Create basic data visualizations with matplotlib\n",
    "* Create statistical data visualizations with seaborn\n",
    "\n",
    "## What is pandas?\n",
    "Pandas is a package built on top of NumPy that enable spreadsheet or table-like relational data visualization with columns and rows. The NumPy foundation allows for fast processing in the background. It has two main data types, the Series and DataFrame.\n",
    "\n",
    "Series are basically labeled NumPy arrays. DataFrames are basically 2D numpy arrays.\n",
    "\n",
    "Jake VanderPlas:\n",
    "> DataFrames are essentially multidimensional arrays with attached row and column labels, and often with heterogeneous types and/or missing data. As well as offering a convenient storage interface for labeled data, Pandas implements a number of powerful data operations familiar to users of both database frameworks and spreadsheet programs.\n",
    "\n",
    "## What is pandas used for?\n",
    "* data cleaning\n",
    "* data manipulation\n",
    "* data exploration\n",
    "* data analysis\n",
    "* data visualization combined with matplotlib and seaborn\n",
    "* data versioning\n",
    "* documenting processes"
   ]
  },
  {
   "cell_type": "code",
   "execution_count": 9,
   "metadata": {},
   "outputs": [
    {
     "name": "stdout",
     "output_type": "stream",
     "text": [
      "0.23.0\n"
     ]
    }
   ],
   "source": [
    "import pandas as pd\n",
    "print(pd.__version__)\n",
    "\n",
    "import numpy as np\n",
    "import matplotlib.pyplot as plt\n",
    "import seaborn as sns"
   ]
  },
  {
   "cell_type": "markdown",
   "metadata": {},
   "source": [
    "## The Series Object\n",
    "\n",
    "A Series object is a 1D array of indexed data. Think of the Index object as an immutable array."
   ]
  },
  {
   "cell_type": "code",
   "execution_count": 10,
   "metadata": {},
   "outputs": [
    {
     "name": "stdout",
     "output_type": "stream",
     "text": [
      "<class 'pandas.core.series.Series'>\n"
     ]
    },
    {
     "data": {
      "text/plain": [
       "0       1\n",
       "1      10\n",
       "2     100\n",
       "3    1000\n",
       "dtype: int64"
      ]
     },
     "execution_count": 10,
     "metadata": {},
     "output_type": "execute_result"
    }
   ],
   "source": [
    "data = pd.Series([1, 10, 100, 1000])\n",
    "print(type(data))\n",
    "data"
   ]
  },
  {
   "cell_type": "code",
   "execution_count": 11,
   "metadata": {},
   "outputs": [
    {
     "name": "stdout",
     "output_type": "stream",
     "text": [
      "Values: [   1   10  100 1000]\n",
      "Index: RangeIndex(start=0, stop=4, step=1)\n"
     ]
    }
   ],
   "source": [
    "# composed of values and index\n",
    "print(\"Values:\", data.values)\n",
    "print(\"Index:\", data.index)"
   ]
  },
  {
   "cell_type": "code",
   "execution_count": 12,
   "metadata": {},
   "outputs": [
    {
     "name": "stdout",
     "output_type": "stream",
     "text": [
      "10 \n",
      "\n",
      "1      10\n",
      "2     100\n",
      "3    1000\n",
      "dtype: int64\n"
     ]
    }
   ],
   "source": [
    "# slice or subset like a numpy array\n",
    "print(data[1], \"\\n\")\n",
    "print(data[1:])"
   ]
  },
  {
   "cell_type": "markdown",
   "metadata": {},
   "source": [
    "### What is the difference between a Pandas Series and NumPy Array?\n",
    "\n",
    "Numpy arrays have implicit indexes while Pandas Series have explicit indexes, which adds flexibility, like the ability to change the index."
   ]
  },
  {
   "cell_type": "code",
   "execution_count": 13,
   "metadata": {},
   "outputs": [
    {
     "data": {
      "text/plain": [
       "Monday           1\n",
       "Tuesday         10\n",
       "Wednesday      100\n",
       "Thursday      1000\n",
       "Friday       10000\n",
       "dtype: int64"
      ]
     },
     "execution_count": 13,
     "metadata": {},
     "output_type": "execute_result"
    }
   ],
   "source": [
    "data = pd.Series([1, 10, 100, 1000, 10000], index=['Monday', \"Tuesday\", 'Wednesday', 'Thursday', 'Friday'])\n",
    "data"
   ]
  },
  {
   "cell_type": "markdown",
   "metadata": {},
   "source": [
    "This makes Series more like Python dictionaries where arbitrary keys are mapped to arbitrary values. The benefit is that Series are much more efficient than Python dictionaries. With a Series we can take both the slicing feature of lists and the key-value mapping feature of dictionaries."
   ]
  },
  {
   "cell_type": "code",
   "execution_count": 14,
   "metadata": {},
   "outputs": [
    {
     "data": {
      "text/plain": [
       "Tuesday        10\n",
       "Wednesday     100\n",
       "Thursday     1000\n",
       "dtype: int64"
      ]
     },
     "execution_count": 14,
     "metadata": {},
     "output_type": "execute_result"
    }
   ],
   "source": [
    "data['Tuesday':'Thursday']"
   ]
  },
  {
   "cell_type": "markdown",
   "metadata": {},
   "source": [
    "You can build Series objects manually using [scalars, lists, or dictionaries](https://jakevdp.github.io/PythonDataScienceHandbook/03.01-introducing-pandas-objects.html#Constructing-Series-objects).\n",
    "\n",
    "## The DataFrame Object\n",
    "\n",
    "Earlier I stated that DataFrames are like labeled multidimensional arrays. You can also think of them as 2D dictionaries. Or, now that you know what Series are, a DataFrame is a bunch of Series that share an index."
   ]
  },
  {
   "cell_type": "code",
   "execution_count": 15,
   "metadata": {},
   "outputs": [
    {
     "name": "stdout",
     "output_type": "stream",
     "text": [
      "California    38332521\n",
      "Florida       19552860\n",
      "Illinois      12882135\n",
      "New York      19651127\n",
      "Texas         26448193\n",
      "dtype: int64 \n",
      "\n",
      " California    423967\n",
      "Florida       170312\n",
      "Illinois      149995\n",
      "New York      141297\n",
      "Texas         695662\n",
      "dtype: int64\n"
     ]
    }
   ],
   "source": [
    "population_dict = {'California': 38332521,\n",
    "                   'Texas': 26448193,\n",
    "                   'New York': 19651127,\n",
    "                   'Florida': 19552860,\n",
    "                   'Illinois': 12882135}\n",
    "population = pd.Series(population_dict)\n",
    "\n",
    "area_dict = {'California': 423967,\n",
    "             'Texas': 695662, \n",
    "             'New York': 141297,\n",
    "             'Florida': 170312,\n",
    "             'Illinois': 149995}\n",
    "area = pd.Series(area_dict)\n",
    "\n",
    "print(population, \"\\n\\n\", area)"
   ]
  },
  {
   "cell_type": "code",
   "execution_count": 16,
   "metadata": {},
   "outputs": [
    {
     "data": {
      "text/html": [
       "<div>\n",
       "<style scoped>\n",
       "    .dataframe tbody tr th:only-of-type {\n",
       "        vertical-align: middle;\n",
       "    }\n",
       "\n",
       "    .dataframe tbody tr th {\n",
       "        vertical-align: top;\n",
       "    }\n",
       "\n",
       "    .dataframe thead th {\n",
       "        text-align: right;\n",
       "    }\n",
       "</style>\n",
       "<table border=\"1\" class=\"dataframe\">\n",
       "  <thead>\n",
       "    <tr style=\"text-align: right;\">\n",
       "      <th></th>\n",
       "      <th>area</th>\n",
       "      <th>population</th>\n",
       "    </tr>\n",
       "  </thead>\n",
       "  <tbody>\n",
       "    <tr>\n",
       "      <th>California</th>\n",
       "      <td>423967</td>\n",
       "      <td>38332521</td>\n",
       "    </tr>\n",
       "    <tr>\n",
       "      <th>Florida</th>\n",
       "      <td>170312</td>\n",
       "      <td>19552860</td>\n",
       "    </tr>\n",
       "    <tr>\n",
       "      <th>Illinois</th>\n",
       "      <td>149995</td>\n",
       "      <td>12882135</td>\n",
       "    </tr>\n",
       "    <tr>\n",
       "      <th>New York</th>\n",
       "      <td>141297</td>\n",
       "      <td>19651127</td>\n",
       "    </tr>\n",
       "    <tr>\n",
       "      <th>Texas</th>\n",
       "      <td>695662</td>\n",
       "      <td>26448193</td>\n",
       "    </tr>\n",
       "  </tbody>\n",
       "</table>\n",
       "</div>"
      ],
      "text/plain": [
       "              area  population\n",
       "California  423967    38332521\n",
       "Florida     170312    19552860\n",
       "Illinois    149995    12882135\n",
       "New York    141297    19651127\n",
       "Texas       695662    26448193"
      ]
     },
     "execution_count": 16,
     "metadata": {},
     "output_type": "execute_result"
    }
   ],
   "source": [
    "states = pd.DataFrame({'population': population,\n",
    "                       'area': area})\n",
    "states"
   ]
  },
  {
   "cell_type": "markdown",
   "metadata": {},
   "source": [
    "Each Series shares a row Index object and the column Index stores the column names."
   ]
  },
  {
   "cell_type": "code",
   "execution_count": 17,
   "metadata": {},
   "outputs": [
    {
     "name": "stdout",
     "output_type": "stream",
     "text": [
      "Row index: Index(['California', 'Florida', 'Illinois', 'New York', 'Texas'], dtype='object')\n",
      "Column index: Index(['area', 'population'], dtype='object')\n"
     ]
    }
   ],
   "source": [
    "print(\"Row index:\", states.index)\n",
    "print(\"Column index:\", states.columns)"
   ]
  },
  {
   "cell_type": "markdown",
   "metadata": {},
   "source": [
    "Jake VanderPlas:\n",
    "> [W]e can also think of a DataFrame as a specialization of a dictionary. Where a dictionary maps a key to a value, a DataFrame maps a column name to a Series of column data."
   ]
  },
  {
   "cell_type": "code",
   "execution_count": 28,
   "metadata": {},
   "outputs": [
    {
     "data": {
      "text/plain": [
       "California    423967\n",
       "Florida       170312\n",
       "Illinois      149995\n",
       "New York      141297\n",
       "Texas         695662\n",
       "Name: area, dtype: int64"
      ]
     },
     "execution_count": 28,
     "metadata": {},
     "output_type": "execute_result"
    }
   ],
   "source": [
    "states['area']"
   ]
  },
  {
   "cell_type": "markdown",
   "metadata": {},
   "source": [
    "You can construct a DataFrame in [multiple ways](https://jakevdp.github.io/PythonDataScienceHandbook/03.01-introducing-pandas-objects.html#Constructing-DataFrame-objects). Later, we will focus on putting existing data into a DataFrame.\n",
    "\n",
    "## How do you get data into pandas?\n",
    "\n",
    "Use the appropriate [importing function](https://pandas.pydata.org/pandas-docs/stable/reference/io.html). There are many options.\n",
    "* CSV file -> `pd.read_csv()`\n",
    "* Excel file -> `pd.read_excel()`\n",
    "* JSON file -> `pd.read_json()`\n",
    "* SQL file -> `pd.read_sql()`"
   ]
  },
  {
   "cell_type": "code",
   "execution_count": 30,
   "metadata": {},
   "outputs": [
    {
     "data": {
      "text/plain": [
       "pandas.core.frame.DataFrame"
      ]
     },
     "execution_count": 30,
     "metadata": {},
     "output_type": "execute_result"
    }
   ],
   "source": [
    "df0 = pd.read_csv('data/one-on-ones2017.csv', encoding='utf-8')\n",
    "type(df0)"
   ]
  },
  {
   "cell_type": "markdown",
   "metadata": {},
   "source": [
    "## How can you view the data?\n",
    "\n",
    "* `df.head()`: view the top rows of data, default is 5\n",
    "* `df.tail()`: view the bottom rows of data, default is 5\n",
    "* `df.sample()`: view a random sample of data\n",
    "* `df.shape`: return the dimensions of the dataframe (tuple, rows x columns)\n",
    "* `df.info()`: view summary data about the dataframe\n",
    "* `df.describe()`: view summary statistics about numerical columns of the dataframe"
   ]
  },
  {
   "cell_type": "code",
   "execution_count": 32,
   "metadata": {},
   "outputs": [
    {
     "data": {
      "text/html": [
       "<div>\n",
       "<style scoped>\n",
       "    .dataframe tbody tr th:only-of-type {\n",
       "        vertical-align: middle;\n",
       "    }\n",
       "\n",
       "    .dataframe tbody tr th {\n",
       "        vertical-align: top;\n",
       "    }\n",
       "\n",
       "    .dataframe thead th {\n",
       "        text-align: right;\n",
       "    }\n",
       "</style>\n",
       "<table border=\"1\" class=\"dataframe\">\n",
       "  <thead>\n",
       "    <tr style=\"text-align: right;\">\n",
       "      <th></th>\n",
       "      <th>Date</th>\n",
       "      <th>Student Email</th>\n",
       "      <th>Length</th>\n",
       "      <th>Result</th>\n",
       "    </tr>\n",
       "  </thead>\n",
       "  <tbody>\n",
       "    <tr>\n",
       "      <th>0</th>\n",
       "      <td>1/2/2017</td>\n",
       "      <td>emcross23@gmail.com</td>\n",
       "      <td>30</td>\n",
       "      <td>Completed</td>\n",
       "    </tr>\n",
       "    <tr>\n",
       "      <th>1</th>\n",
       "      <td>1/3/2017</td>\n",
       "      <td>erikburn13@gmail.ocm</td>\n",
       "      <td>38</td>\n",
       "      <td>Completed</td>\n",
       "    </tr>\n",
       "    <tr>\n",
       "      <th>2</th>\n",
       "      <td>1/5/2017</td>\n",
       "      <td>jt1812@att.com</td>\n",
       "      <td>30</td>\n",
       "      <td>Completed</td>\n",
       "    </tr>\n",
       "    <tr>\n",
       "      <th>3</th>\n",
       "      <td>1/6/2017</td>\n",
       "      <td>1853934397@qq.com</td>\n",
       "      <td>8</td>\n",
       "      <td>No show</td>\n",
       "    </tr>\n",
       "    <tr>\n",
       "      <th>4</th>\n",
       "      <td>1/7/2017</td>\n",
       "      <td>rachel.gants@gmail.com</td>\n",
       "      <td>30</td>\n",
       "      <td>Completed</td>\n",
       "    </tr>\n",
       "  </tbody>\n",
       "</table>\n",
       "</div>"
      ],
      "text/plain": [
       "       Date           Student Email  Length     Result\n",
       "0  1/2/2017     emcross23@gmail.com      30  Completed\n",
       "1  1/3/2017    erikburn13@gmail.ocm      38  Completed\n",
       "2  1/5/2017          jt1812@att.com      30  Completed\n",
       "3  1/6/2017       1853934397@qq.com       8    No show\n",
       "4  1/7/2017  rachel.gants@gmail.com      30  Completed"
      ]
     },
     "execution_count": 32,
     "metadata": {},
     "output_type": "execute_result"
    }
   ],
   "source": [
    "df0.head()"
   ]
  },
  {
   "cell_type": "code",
   "execution_count": 34,
   "metadata": {},
   "outputs": [
    {
     "data": {
      "text/html": [
       "<div>\n",
       "<style scoped>\n",
       "    .dataframe tbody tr th:only-of-type {\n",
       "        vertical-align: middle;\n",
       "    }\n",
       "\n",
       "    .dataframe tbody tr th {\n",
       "        vertical-align: top;\n",
       "    }\n",
       "\n",
       "    .dataframe thead th {\n",
       "        text-align: right;\n",
       "    }\n",
       "</style>\n",
       "<table border=\"1\" class=\"dataframe\">\n",
       "  <thead>\n",
       "    <tr style=\"text-align: right;\">\n",
       "      <th></th>\n",
       "      <th>Date</th>\n",
       "      <th>Student Email</th>\n",
       "      <th>Length</th>\n",
       "      <th>Result</th>\n",
       "    </tr>\n",
       "  </thead>\n",
       "  <tbody>\n",
       "    <tr>\n",
       "      <th>334</th>\n",
       "      <td>6/6/2017</td>\n",
       "      <td>jeremiah.r.schmitt@att.net</td>\n",
       "      <td>2</td>\n",
       "      <td>Completed</td>\n",
       "    </tr>\n",
       "    <tr>\n",
       "      <th>333</th>\n",
       "      <td>6/5/2017</td>\n",
       "      <td>liamskimboard@yahoo.com</td>\n",
       "      <td>22</td>\n",
       "      <td>Completed</td>\n",
       "    </tr>\n",
       "    <tr>\n",
       "      <th>6</th>\n",
       "      <td>1/9/2017</td>\n",
       "      <td>cfsmithjr@gmail.com</td>\n",
       "      <td>30</td>\n",
       "      <td>Completed</td>\n",
       "    </tr>\n",
       "    <tr>\n",
       "      <th>176</th>\n",
       "      <td>5/2/2017</td>\n",
       "      <td>andreeasultan@gmail.com</td>\n",
       "      <td>30</td>\n",
       "      <td>Completed</td>\n",
       "    </tr>\n",
       "    <tr>\n",
       "      <th>587</th>\n",
       "      <td>8/15/2017</td>\n",
       "      <td>toddbascombe@gmail.com</td>\n",
       "      <td>30</td>\n",
       "      <td>Completed</td>\n",
       "    </tr>\n",
       "    <tr>\n",
       "      <th>899</th>\n",
       "      <td>11/15/2017</td>\n",
       "      <td>jd1549@att.com</td>\n",
       "      <td>0</td>\n",
       "      <td>Canceled</td>\n",
       "    </tr>\n",
       "    <tr>\n",
       "      <th>520</th>\n",
       "      <td>8/2/2017</td>\n",
       "      <td>sonfitz@icloud.com</td>\n",
       "      <td>15</td>\n",
       "      <td>No show</td>\n",
       "    </tr>\n",
       "    <tr>\n",
       "      <th>390</th>\n",
       "      <td>6/21/2017</td>\n",
       "      <td>ksirgey@gmail.com</td>\n",
       "      <td>30</td>\n",
       "      <td>Completed</td>\n",
       "    </tr>\n",
       "    <tr>\n",
       "      <th>198</th>\n",
       "      <td>5/5/2017</td>\n",
       "      <td>tgrimes.westshoresolutions@gmail.com</td>\n",
       "      <td>9</td>\n",
       "      <td>Completed</td>\n",
       "    </tr>\n",
       "    <tr>\n",
       "      <th>423</th>\n",
       "      <td>6/29/2017</td>\n",
       "      <td>julien_5556@hotmail.com</td>\n",
       "      <td>32</td>\n",
       "      <td>Completed</td>\n",
       "    </tr>\n",
       "  </tbody>\n",
       "</table>\n",
       "</div>"
      ],
      "text/plain": [
       "           Date                         Student Email  Length     Result\n",
       "334    6/6/2017            jeremiah.r.schmitt@att.net       2  Completed\n",
       "333    6/5/2017               liamskimboard@yahoo.com      22  Completed\n",
       "6      1/9/2017                   cfsmithjr@gmail.com      30  Completed\n",
       "176    5/2/2017               andreeasultan@gmail.com      30  Completed\n",
       "587   8/15/2017                toddbascombe@gmail.com      30  Completed\n",
       "899  11/15/2017                        jd1549@att.com       0   Canceled\n",
       "520    8/2/2017                    sonfitz@icloud.com      15    No show\n",
       "390   6/21/2017                     ksirgey@gmail.com      30  Completed\n",
       "198    5/5/2017  tgrimes.westshoresolutions@gmail.com       9  Completed\n",
       "423   6/29/2017               julien_5556@hotmail.com      32  Completed"
      ]
     },
     "execution_count": 34,
     "metadata": {},
     "output_type": "execute_result"
    }
   ],
   "source": [
    "df0.sample(10)"
   ]
  },
  {
   "cell_type": "code",
   "execution_count": 35,
   "metadata": {},
   "outputs": [
    {
     "name": "stdout",
     "output_type": "stream",
     "text": [
      "<class 'pandas.core.frame.DataFrame'>\n",
      "RangeIndex: 917 entries, 0 to 916\n",
      "Data columns (total 4 columns):\n",
      "Date             917 non-null object\n",
      "Student Email    917 non-null object\n",
      "Length           917 non-null int64\n",
      "Result           917 non-null object\n",
      "dtypes: int64(1), object(3)\n",
      "memory usage: 28.7+ KB\n"
     ]
    }
   ],
   "source": [
    "df0.info()"
   ]
  },
  {
   "cell_type": "code",
   "execution_count": 36,
   "metadata": {},
   "outputs": [
    {
     "data": {
      "text/html": [
       "<div>\n",
       "<style scoped>\n",
       "    .dataframe tbody tr th:only-of-type {\n",
       "        vertical-align: middle;\n",
       "    }\n",
       "\n",
       "    .dataframe tbody tr th {\n",
       "        vertical-align: top;\n",
       "    }\n",
       "\n",
       "    .dataframe thead th {\n",
       "        text-align: right;\n",
       "    }\n",
       "</style>\n",
       "<table border=\"1\" class=\"dataframe\">\n",
       "  <thead>\n",
       "    <tr style=\"text-align: right;\">\n",
       "      <th></th>\n",
       "      <th>Length</th>\n",
       "    </tr>\n",
       "  </thead>\n",
       "  <tbody>\n",
       "    <tr>\n",
       "      <th>count</th>\n",
       "      <td>917.000000</td>\n",
       "    </tr>\n",
       "    <tr>\n",
       "      <th>mean</th>\n",
       "      <td>19.764449</td>\n",
       "    </tr>\n",
       "    <tr>\n",
       "      <th>std</th>\n",
       "      <td>12.604286</td>\n",
       "    </tr>\n",
       "    <tr>\n",
       "      <th>min</th>\n",
       "      <td>0.000000</td>\n",
       "    </tr>\n",
       "    <tr>\n",
       "      <th>25%</th>\n",
       "      <td>10.000000</td>\n",
       "    </tr>\n",
       "    <tr>\n",
       "      <th>50%</th>\n",
       "      <td>23.000000</td>\n",
       "    </tr>\n",
       "    <tr>\n",
       "      <th>75%</th>\n",
       "      <td>30.000000</td>\n",
       "    </tr>\n",
       "    <tr>\n",
       "      <th>max</th>\n",
       "      <td>50.000000</td>\n",
       "    </tr>\n",
       "  </tbody>\n",
       "</table>\n",
       "</div>"
      ],
      "text/plain": [
       "           Length\n",
       "count  917.000000\n",
       "mean    19.764449\n",
       "std     12.604286\n",
       "min      0.000000\n",
       "25%     10.000000\n",
       "50%     23.000000\n",
       "75%     30.000000\n",
       "max     50.000000"
      ]
     },
     "execution_count": 36,
     "metadata": {},
     "output_type": "execute_result"
    }
   ],
   "source": [
    "df0.describe()"
   ]
  },
  {
   "cell_type": "markdown",
   "metadata": {},
   "source": [
    "### Best Practice\n",
    "Always make changes to a copy of the original data, not the original data itself.\n"
   ]
  },
  {
   "cell_type": "code",
   "execution_count": 38,
   "metadata": {},
   "outputs": [
    {
     "name": "stdout",
     "output_type": "stream",
     "text": [
      "Index(['Date', 'Student Email', 'Length', 'Result'], dtype='object')\n"
     ]
    },
    {
     "data": {
      "text/plain": [
       "Index(['date', 'studentemail', 'length', 'result'], dtype='object')"
      ]
     },
     "execution_count": 38,
     "metadata": {},
     "output_type": "execute_result"
    }
   ],
   "source": [
    "df1 = df0.copy()\n",
    "print(df1.columns)\n",
    "df1.columns = [x.lower().replace(\" \", \"\") for x in df1.columns]\n",
    "df1.columns"
   ]
  },
  {
   "cell_type": "markdown",
   "metadata": {},
   "source": [
    "## How do you select data?\n",
    "\n",
    "* by single column: `df['column_name']` or `df.column_name`\n",
    "* row slicing: `df[1:3]`\n",
    "* label: `df.loc[start:stop]`\n",
    "* position: `df.iloc[start:stop]`\n",
    "* Boolean indexing: `df[df.col <condition>]`"
   ]
  },
  {
   "cell_type": "code",
   "execution_count": 39,
   "metadata": {},
   "outputs": [
    {
     "data": {
      "text/plain": [
       "0    Completed\n",
       "1    Completed\n",
       "2    Completed\n",
       "3      No show\n",
       "4    Completed\n",
       "Name: result, dtype: object"
      ]
     },
     "execution_count": 39,
     "metadata": {},
     "output_type": "execute_result"
    }
   ],
   "source": [
    "df1['result'].head()"
   ]
  },
  {
   "cell_type": "code",
   "execution_count": 40,
   "metadata": {},
   "outputs": [
    {
     "data": {
      "text/plain": [
       "0    Completed\n",
       "1    Completed\n",
       "2    Completed\n",
       "3      No show\n",
       "4    Completed\n",
       "Name: result, dtype: object"
      ]
     },
     "execution_count": 40,
     "metadata": {},
     "output_type": "execute_result"
    }
   ],
   "source": [
    "df1.result.head()"
   ]
  },
  {
   "cell_type": "code",
   "execution_count": 41,
   "metadata": {},
   "outputs": [
    {
     "name": "stdout",
     "output_type": "stream",
     "text": [
      "       date  length     result\n",
      "0  1/2/2017      30  Completed\n",
      "1  1/3/2017      38  Completed\n",
      "2  1/5/2017      30  Completed\n",
      "3  1/6/2017       8    No show\n",
      "4  1/7/2017      30  Completed\n"
     ]
    }
   ],
   "source": [
    "print(df1[['date', 'length', 'result']].head())"
   ]
  },
  {
   "cell_type": "code",
   "execution_count": 42,
   "metadata": {},
   "outputs": [
    {
     "data": {
      "text/html": [
       "<div>\n",
       "<style scoped>\n",
       "    .dataframe tbody tr th:only-of-type {\n",
       "        vertical-align: middle;\n",
       "    }\n",
       "\n",
       "    .dataframe tbody tr th {\n",
       "        vertical-align: top;\n",
       "    }\n",
       "\n",
       "    .dataframe thead th {\n",
       "        text-align: right;\n",
       "    }\n",
       "</style>\n",
       "<table border=\"1\" class=\"dataframe\">\n",
       "  <thead>\n",
       "    <tr style=\"text-align: right;\">\n",
       "      <th></th>\n",
       "      <th>date</th>\n",
       "      <th>length</th>\n",
       "      <th>result</th>\n",
       "    </tr>\n",
       "  </thead>\n",
       "  <tbody>\n",
       "    <tr>\n",
       "      <th>0</th>\n",
       "      <td>1/2/2017</td>\n",
       "      <td>30</td>\n",
       "      <td>Completed</td>\n",
       "    </tr>\n",
       "    <tr>\n",
       "      <th>1</th>\n",
       "      <td>1/3/2017</td>\n",
       "      <td>38</td>\n",
       "      <td>Completed</td>\n",
       "    </tr>\n",
       "    <tr>\n",
       "      <th>2</th>\n",
       "      <td>1/5/2017</td>\n",
       "      <td>30</td>\n",
       "      <td>Completed</td>\n",
       "    </tr>\n",
       "    <tr>\n",
       "      <th>3</th>\n",
       "      <td>1/6/2017</td>\n",
       "      <td>8</td>\n",
       "      <td>No show</td>\n",
       "    </tr>\n",
       "    <tr>\n",
       "      <th>4</th>\n",
       "      <td>1/7/2017</td>\n",
       "      <td>30</td>\n",
       "      <td>Completed</td>\n",
       "    </tr>\n",
       "  </tbody>\n",
       "</table>\n",
       "</div>"
      ],
      "text/plain": [
       "       date  length     result\n",
       "0  1/2/2017      30  Completed\n",
       "1  1/3/2017      38  Completed\n",
       "2  1/5/2017      30  Completed\n",
       "3  1/6/2017       8    No show\n",
       "4  1/7/2017      30  Completed"
      ]
     },
     "execution_count": 42,
     "metadata": {},
     "output_type": "execute_result"
    }
   ],
   "source": [
    "df1.loc[:, ['date', 'length', 'result']].head()"
   ]
  },
  {
   "cell_type": "code",
   "execution_count": 43,
   "metadata": {},
   "outputs": [
    {
     "data": {
      "text/html": [
       "<div>\n",
       "<style scoped>\n",
       "    .dataframe tbody tr th:only-of-type {\n",
       "        vertical-align: middle;\n",
       "    }\n",
       "\n",
       "    .dataframe tbody tr th {\n",
       "        vertical-align: top;\n",
       "    }\n",
       "\n",
       "    .dataframe thead th {\n",
       "        text-align: right;\n",
       "    }\n",
       "</style>\n",
       "<table border=\"1\" class=\"dataframe\">\n",
       "  <thead>\n",
       "    <tr style=\"text-align: right;\">\n",
       "      <th></th>\n",
       "      <th>date</th>\n",
       "      <th>studentemail</th>\n",
       "      <th>length</th>\n",
       "      <th>result</th>\n",
       "    </tr>\n",
       "  </thead>\n",
       "  <tbody>\n",
       "    <tr>\n",
       "      <th>100</th>\n",
       "      <td>3/29/2017</td>\n",
       "      <td>silas501@sbcglobal.net</td>\n",
       "      <td>14</td>\n",
       "      <td>Completed</td>\n",
       "    </tr>\n",
       "    <tr>\n",
       "      <th>101</th>\n",
       "      <td>3/29/2017</td>\n",
       "      <td>francois.michon.mtl@gmail.com</td>\n",
       "      <td>43</td>\n",
       "      <td>Completed</td>\n",
       "    </tr>\n",
       "    <tr>\n",
       "      <th>102</th>\n",
       "      <td>3/30/2017</td>\n",
       "      <td>luismigel@hotmail.com</td>\n",
       "      <td>30</td>\n",
       "      <td>Completed</td>\n",
       "    </tr>\n",
       "    <tr>\n",
       "      <th>103</th>\n",
       "      <td>3/31/2017</td>\n",
       "      <td>navalkulkarni@gmail.com</td>\n",
       "      <td>25</td>\n",
       "      <td>Completed</td>\n",
       "    </tr>\n",
       "    <tr>\n",
       "      <th>104</th>\n",
       "      <td>3/31/2017</td>\n",
       "      <td>jsuganya91ece@gmail.com</td>\n",
       "      <td>25</td>\n",
       "      <td>Completed</td>\n",
       "    </tr>\n",
       "  </tbody>\n",
       "</table>\n",
       "</div>"
      ],
      "text/plain": [
       "          date                   studentemail  length     result\n",
       "100  3/29/2017         silas501@sbcglobal.net      14  Completed\n",
       "101  3/29/2017  francois.michon.mtl@gmail.com      43  Completed\n",
       "102  3/30/2017          luismigel@hotmail.com      30  Completed\n",
       "103  3/31/2017        navalkulkarni@gmail.com      25  Completed\n",
       "104  3/31/2017        jsuganya91ece@gmail.com      25  Completed"
      ]
     },
     "execution_count": 43,
     "metadata": {},
     "output_type": "execute_result"
    }
   ],
   "source": [
    "df1[100:105]"
   ]
  },
  {
   "cell_type": "code",
   "execution_count": 44,
   "metadata": {},
   "outputs": [
    {
     "data": {
      "text/plain": [
       "date                                3/29/2017\n",
       "studentemail    francois.michon.mtl@gmail.com\n",
       "length                                     43\n",
       "result                              Completed\n",
       "Name: 101, dtype: object"
      ]
     },
     "execution_count": 44,
     "metadata": {},
     "output_type": "execute_result"
    }
   ],
   "source": [
    "df1.iloc[101]"
   ]
  },
  {
   "cell_type": "code",
   "execution_count": 45,
   "metadata": {},
   "outputs": [
    {
     "name": "stdout",
     "output_type": "stream",
     "text": [
      "          date                   studentemail  length     result\n",
      "100  3/29/2017         silas501@sbcglobal.net      14  Completed\n",
      "101  3/29/2017  francois.michon.mtl@gmail.com      43  Completed\n",
      "102  3/30/2017          luismigel@hotmail.com      30  Completed\n",
      "103  3/31/2017        navalkulkarni@gmail.com      25  Completed\n",
      "104  3/31/2017        jsuganya91ece@gmail.com      25  Completed\n"
     ]
    }
   ],
   "source": [
    "print(df1.iloc[100:105])"
   ]
  },
  {
   "cell_type": "code",
   "execution_count": 36,
   "metadata": {},
   "outputs": [
    {
     "name": "stdout",
     "output_type": "stream",
     "text": [
      "          date  length     result\n",
      "100  3/29/2017      14  Completed\n",
      "101  3/29/2017      43  Completed\n",
      "102  3/30/2017      30  Completed\n",
      "103  3/31/2017      25  Completed\n",
      "104  3/31/2017      25  Completed\n"
     ]
    }
   ],
   "source": [
    "print(df1.iloc[100:105, [0, 2, 3]])"
   ]
  },
  {
   "cell_type": "code",
   "execution_count": 37,
   "metadata": {},
   "outputs": [
    {
     "name": "stdout",
     "output_type": "stream",
     "text": [
      "           date             studentemail  length     result\n",
      "384   6/20/2017         cm3568@gmail.com      47  Completed\n",
      "706   9/13/2017      mrlowe317@gmail.com      46  Completed\n",
      "892  11/13/2017  gibranhasan14@gmail.com      47  Completed\n",
      "893  11/13/2017  ceilimcgeever@gmail.com      47  Completed\n",
      "914  11/28/2017      j@jackiemjensen.com      50  Completed\n"
     ]
    }
   ],
   "source": [
    "print(df1[df1.length > 45])"
   ]
  },
  {
   "cell_type": "code",
   "execution_count": 38,
   "metadata": {},
   "outputs": [
    {
     "name": "stdout",
     "output_type": "stream",
     "text": [
      "<class 'pandas.core.frame.DataFrame'>\n",
      "RangeIndex: 917 entries, 0 to 916\n",
      "Data columns (total 4 columns):\n",
      "date            917 non-null object\n",
      "studentemail    917 non-null object\n",
      "length          917 non-null int64\n",
      "result          917 non-null category\n",
      "dtypes: category(1), int64(1), object(2)\n",
      "memory usage: 22.6+ KB\n"
     ]
    }
   ],
   "source": [
    "df1['result'] = df1.result.astype('category')\n",
    "df1.info()"
   ]
  },
  {
   "cell_type": "code",
   "execution_count": 39,
   "metadata": {},
   "outputs": [
    {
     "data": {
      "text/plain": [
       "count           917\n",
       "unique            3\n",
       "top       Completed\n",
       "freq            668\n",
       "Name: result, dtype: object"
      ]
     },
     "execution_count": 39,
     "metadata": {},
     "output_type": "execute_result"
    }
   ],
   "source": [
    "df1['result'].describe()"
   ]
  },
  {
   "cell_type": "code",
   "execution_count": 40,
   "metadata": {},
   "outputs": [
    {
     "data": {
      "text/plain": [
       "result\n",
       "Canceled     141\n",
       "Completed    668\n",
       "No show      108\n",
       "dtype: int64"
      ]
     },
     "execution_count": 40,
     "metadata": {},
     "output_type": "execute_result"
    }
   ],
   "source": [
    "df2 = df1.groupby('result').size()\n",
    "df2"
   ]
  },
  {
   "cell_type": "markdown",
   "metadata": {},
   "source": [
    "## Missing Data\n",
    "\n",
    "Missing data can manifest in multiple ways. When pandas recognizes that data is missing, it will display a `NaN` (Not a Number) in its cell. Humans may use text like \"Missing\", \"NA\", or \"\" (an empty string).\n"
   ]
  },
  {
   "cell_type": "code",
   "execution_count": 78,
   "metadata": {},
   "outputs": [
    {
     "name": "stdout",
     "output_type": "stream",
     "text": [
      "        one       two     three\n",
      "a -2.225352  0.852152  0.397978\n",
      "b       NaN       NaN       NaN\n",
      "c  0.107797 -0.536175  0.274713\n",
      "d       NaN       NaN       NaN\n",
      "e -0.334680  0.367595 -1.356206\n",
      "f -1.727653 -1.191460  0.392494\n",
      "g       NaN       NaN       NaN\n",
      "h -0.389471 -0.071879  0.466408\n"
     ]
    }
   ],
   "source": [
    "df3 = pd.DataFrame(np.random.randn(5, 3), index=['a', 'c', 'e', 'f',\n",
    "'h'],columns=['one', 'two', 'three'])\n",
    "\n",
    "df3 = df3.reindex(['a', 'b', 'c', 'd', 'e', 'f', 'g', 'h'])\n",
    "\n",
    "print(df)"
   ]
  },
  {
   "cell_type": "code",
   "execution_count": 79,
   "metadata": {},
   "outputs": [
    {
     "data": {
      "text/plain": [
       "a    False\n",
       "b     True\n",
       "c    False\n",
       "d     True\n",
       "e    False\n",
       "f    False\n",
       "g     True\n",
       "h    False\n",
       "Name: one, dtype: bool"
      ]
     },
     "execution_count": 79,
     "metadata": {},
     "output_type": "execute_result"
    }
   ],
   "source": [
    "df['one'].isnull()"
   ]
  },
  {
   "cell_type": "code",
   "execution_count": 80,
   "metadata": {},
   "outputs": [
    {
     "data": {
      "text/plain": [
       "a     True\n",
       "b    False\n",
       "c     True\n",
       "d    False\n",
       "e     True\n",
       "f     True\n",
       "g    False\n",
       "h     True\n",
       "Name: one, dtype: bool"
      ]
     },
     "execution_count": 80,
     "metadata": {},
     "output_type": "execute_result"
    }
   ],
   "source": [
    "df3['one'].notnull()"
   ]
  },
  {
   "cell_type": "markdown",
   "metadata": {},
   "source": [
    "### Removing Missing Data\n",
    "\n",
    "You can deal with missing data in two ways. Delete it or fill (impute) it. Let's say we want simply keep the existing data and delete the rows with missing values."
   ]
  },
  {
   "cell_type": "code",
   "execution_count": 81,
   "metadata": {},
   "outputs": [
    {
     "name": "stdout",
     "output_type": "stream",
     "text": [
      "        one       two     three\n",
      "a -0.696126  0.052920  0.551755\n",
      "c -1.388892 -0.200897 -0.720571\n",
      "e  0.720669 -0.647431  0.082922\n",
      "f  0.813926 -1.179344 -0.766257\n",
      "h  0.180923 -0.272518 -0.350927 \n",
      "\n",
      " Empty DataFrame\n",
      "Columns: []\n",
      "Index: [a, b, c, d, e, f, g, h]\n"
     ]
    }
   ],
   "source": [
    "df3a = df3.dropna()\n",
    "df3b = df3.dropna(axis=1)\n",
    "print(df3a, \"\\n\\n\", df3b)"
   ]
  },
  {
   "cell_type": "markdown",
   "metadata": {},
   "source": [
    "### Filling Missing Data\n",
    "\n",
    "Several options exist for filling in missing values. The most appropriate choice depends on the context."
   ]
  },
  {
   "cell_type": "code",
   "execution_count": 82,
   "metadata": {},
   "outputs": [
    {
     "name": "stdout",
     "output_type": "stream",
     "text": [
      "        one       two     three\n",
      "a -0.696126  0.052920  0.551755\n",
      "b  0.000000  0.000000  0.000000\n",
      "c -1.388892 -0.200897 -0.720571\n",
      "d  0.000000  0.000000  0.000000\n",
      "e  0.720669 -0.647431  0.082922\n",
      "f  0.813926 -1.179344 -0.766257\n",
      "g  0.000000  0.000000  0.000000\n",
      "h  0.180923 -0.272518 -0.350927 \n",
      "\n",
      "         one       two     three\n",
      "a -0.696126  0.052920  0.551755\n",
      "b -0.073900 -0.449454 -0.240616\n",
      "c -1.388892 -0.200897 -0.720571\n",
      "d -0.073900 -0.449454 -0.240616\n",
      "e  0.720669 -0.647431  0.082922\n",
      "f  0.813926 -1.179344 -0.766257\n",
      "g -0.073900 -0.449454 -0.240616\n",
      "h  0.180923 -0.272518 -0.350927 \n",
      "\n",
      "         one       two     three\n",
      "a -0.696126  0.052920  0.551755\n",
      "b  0.180923 -0.272518 -0.350927\n",
      "c -1.388892 -0.200897 -0.720571\n",
      "d  0.180923 -0.272518 -0.350927\n",
      "e  0.720669 -0.647431  0.082922\n",
      "f  0.813926 -1.179344 -0.766257\n",
      "g  0.180923 -0.272518 -0.350927\n",
      "h  0.180923 -0.272518 -0.350927\n"
     ]
    }
   ],
   "source": [
    "# fill with a scalar\n",
    "df4a = df3.fillna(0)\n",
    "df4b = df3.fillna(df3.mean())\n",
    "df4c = df3.fillna(df3.median())\n",
    "print(df4a, \"\\n\\n\", df4b, \"\\n\\n\", df4c)"
   ]
  },
  {
   "cell_type": "code",
   "execution_count": 83,
   "metadata": {},
   "outputs": [
    {
     "name": "stdout",
     "output_type": "stream",
     "text": [
      "        one       two     three\n",
      "a -0.696126  0.052920  0.551755\n",
      "b -0.696126  0.052920  0.551755\n",
      "c -1.388892 -0.200897 -0.720571\n",
      "d -1.388892 -0.200897 -0.720571\n",
      "e  0.720669 -0.647431  0.082922 \n",
      "\n",
      "         one       two     three\n",
      "a -0.696126  0.052920  0.551755\n",
      "b -1.388892 -0.200897 -0.720571\n",
      "c -1.388892 -0.200897 -0.720571\n",
      "d  0.720669 -0.647431  0.082922\n",
      "e  0.720669 -0.647431  0.082922\n"
     ]
    }
   ],
   "source": [
    "# forward fill or backward fill\n",
    "df4a = df3.ffill().head()\n",
    "df4b = df3.bfill().head()\n",
    "print(df4a, \"\\n\\n\", df4b)"
   ]
  },
  {
   "cell_type": "markdown",
   "metadata": {},
   "source": [
    "## Simple Data Visualizations\n",
    "\n",
    "Lets see the distribution of sessions lengths using the `DataFrame.hist()` method that uses `matplotlib` in the background."
   ]
  },
  {
   "cell_type": "code",
   "execution_count": 42,
   "metadata": {},
   "outputs": [
    {
     "data": {
      "image/png": "[encoded data removed]",
      "text/plain": [
       "<Figure size 432x288 with 1 Axes>"
      ]
     },
     "metadata": {
      "needs_background": "light"
     },
     "output_type": "display_data"
    }
   ],
   "source": [
    "df1['length'].hist(bins=20)\n",
    "plt.title('Distribution of Session Lengths')\n",
    "plt.show()"
   ]
  },
  {
   "cell_type": "markdown",
   "metadata": {},
   "source": [
    "Lets see how `seaborn` displays a similar plot. Seaborn also uses matplotlib in the background."
   ]
  },
  {
   "cell_type": "code",
   "execution_count": 43,
   "metadata": {},
   "outputs": [
    {
     "name": "stderr",
     "output_type": "stream",
     "text": [
      "C:\\Users\\booth\\Anaconda3\\lib\\site-packages\\scipy\\stats\\stats.py:1713: FutureWarning: Using a non-tuple sequence for multidimensional indexing is deprecated; use `arr[tuple(seq)]` instead of `arr[seq]`. In the future this will be interpreted as an array index, `arr[np.array(seq)]`, which will result either in an error or a different result.\n",
      "  return np.add.reduce(sorted[indexer] * weights, axis=axis) / sumval\n"
     ]
    },
    {
     "data": {
      "image/png": "[encoded data removed]",
      "text/plain": [
       "<Figure size 432x288 with 1 Axes>"
      ]
     },
     "metadata": {
      "needs_background": "light"
     },
     "output_type": "display_data"
    }
   ],
   "source": [
    "sns.distplot(df1['length'])\n",
    "plt.xlim([0,50])\n",
    "plt.show()"
   ]
  },
  {
   "cell_type": "markdown",
   "metadata": {},
   "source": [
    "Lets view how time is spent on each result type."
   ]
  },
  {
   "cell_type": "code",
   "execution_count": 44,
   "metadata": {},
   "outputs": [
    {
     "name": "stderr",
     "output_type": "stream",
     "text": [
      "C:\\Users\\booth\\Anaconda3\\lib\\site-packages\\scipy\\stats\\stats.py:1713: FutureWarning: Using a non-tuple sequence for multidimensional indexing is deprecated; use `arr[tuple(seq)]` instead of `arr[seq]`. In the future this will be interpreted as an array index, `arr[np.array(seq)]`, which will result either in an error or a different result.\n",
      "  return np.add.reduce(sorted[indexer] * weights, axis=axis) / sumval\n"
     ]
    },
    {
     "data": {
      "image/png": "[encoded data removed]",
      "text/plain": [
       "<Figure size 432x288 with 1 Axes>"
      ]
     },
     "metadata": {
      "needs_background": "light"
     },
     "output_type": "display_data"
    }
   ],
   "source": [
    "sns.barplot(x = 'result', y = 'length', data=df1)\n",
    "plt.title(\"Session Lengths by Type\")\n",
    "plt.show()"
   ]
  },
  {
   "cell_type": "code",
   "execution_count": 45,
   "metadata": {},
   "outputs": [
    {
     "data": {
      "text/plain": [
       "<matplotlib.axes._subplots.AxesSubplot at 0x213d2784588>"
      ]
     },
     "execution_count": 45,
     "metadata": {},
     "output_type": "execute_result"
    },
    {
     "data": {
      "image/png": "[encoded data removed]",
      "text/plain": [
       "<Figure size 432x288 with 1 Axes>"
      ]
     },
     "metadata": {
      "needs_background": "light"
     },
     "output_type": "display_data"
    }
   ],
   "source": [
    "sns.boxplot(x=df1.loc[:, 'length'])"
   ]
  },
  {
   "cell_type": "markdown",
   "metadata": {},
   "source": [
    "## Resources\n",
    "\n",
    "* Jake VanderPlas's [pandas chapter](https://jakevdp.github.io/PythonDataScienceHandbook/03.00-introduction-to-pandas.html) from his book [Python Data Science Handbook](https://jakevdp.github.io/PythonDataScienceHandbook/)\n",
    "* Karlijn Willems's of DataCamp [pandas tutorial](https://www.datacamp.com/community/tutorials/pandas-tutorial-dataframe-python)\n",
    "* Tutorialspoint [pandas tutorial](https://www.tutorialspoint.com/python_pandas)\n",
    "* Ted Petrou's [Minimally Sufficient Pandas](https://medium.com/dunder-data/minimally-sufficient-pandas-a8e67f2a2428) and its [cheat sheet](https://medium.com/dunder-data/minimally-sufficient-pandas-cheat-sheet-34f3a6888c36)."
   ]
  }
 ],
 "metadata": {
  "kernelspec": {
   "display_name": "Python 3",
   "language": "python",
   "name": "python3"
  },
  "language_info": {
   "codemirror_mode": {
    "name": "ipython",
    "version": 3
   },
   "file_extension": ".py",
   "mimetype": "text/x-python",
   "name": "python",
   "nbconvert_exporter": "python",
   "pygments_lexer": "ipython3",
   "version": "3.7.0"
  }
 },
 "nbformat": 4,
 "nbformat_minor": 2
}
